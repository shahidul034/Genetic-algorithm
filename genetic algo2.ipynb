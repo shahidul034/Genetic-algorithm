{
 "cells": [
  {
   "cell_type": "code",
   "execution_count": 1,
   "metadata": {},
   "outputs": [],
   "source": [
    "import random\n",
    "import math\n",
    "class genetic_algo():\n",
    "    population=[]\n",
    "    def __init__(self):\n",
    "        for x in range(0,4):\n",
    "            cromo=[random.randint(0,1) for x in range(0,6)]\n",
    "            self.population.append(cromo)\n",
    "    def fitness_calculation(self,cromo):\n",
    "        flag=0 \n",
    "        fitness_val=0\n",
    "        if cromo[0]==1:\n",
    "            flag=1\n",
    "        for idx,x in enumerate(cromo):\n",
    "            fitness_val+=x*(math.pow(2,(len(cromo)-idx-1)))\n",
    "        if flag==1:\n",
    "            fitness_val=-fitness_val\n",
    "        fitness_val=-(fitness_val*fitness_val)+5\n",
    "        return fitness_val\n",
    "    \n",
    "    def fitness_func(self):\n",
    "        population_fit=[]\n",
    "        for cromo in self.population:\n",
    "            fitness_val=self.fitness_calculation(cromo)\n",
    "            print(\"Fitness :\",fitness_val)\n",
    "            population_fit.append({\n",
    "                \"cromosome\":cromo,\n",
    "                \"fitness_value\":fitness_val\n",
    "            })\n",
    "        return population_fit\n",
    "    def selection(self,population_fit):\n",
    "        # population_fit_sorted = sorted(population_fit, key=lambda x: x[\"fitness_value\"])\n",
    "        # return population_fit_sorted[0][\"fitness_value\"],[population_fit_sorted[0]['cromosome'],population_fit_sorted[1][\"cromosome\"]]\n",
    "        select_index=random.choices([x for x in range(len(population_fit))],weights=[population_fit[x]['fitness_value'] for x in range(len(population_fit))],k=2)\n",
    "        return population_fit[select_index[0]][\"fitness_value\"],[population_fit[select_index[0]]['cromosome'],population_fit[select_index[1]][\"cromosome\"]]\n",
    "    def crossover(self,new_selection):\n",
    "        first,sec=new_selection[0],new_selection[1]\n",
    "        cross_point=random.randint(0,5)\n",
    "        for x in range(cross_point,6):\n",
    "            first[x],sec[x]=sec[x],first[x]\n",
    "        new_selection.append(first)\n",
    "        new_selection.append(sec)\n",
    "        return new_selection\n",
    "    def mutation(self,cross_value):\n",
    "        if random.randint(1,25)==22:\n",
    "            i=random.randint(0,3)\n",
    "            j=random.randint(0,5)\n",
    "            cross_value[i][j]=1-cross_value[i][j]\n",
    "        return cross_value\n",
    "\n"
   ]
  },
  {
   "cell_type": "code",
   "execution_count": 2,
   "metadata": {},
   "outputs": [
    {
     "name": "stdout",
     "output_type": "stream",
     "text": [
      "cnt:  1\n",
      "Fitness : -319.0\n",
      "Fitness : -3131.0\n",
      "Fitness : -356.0\n",
      "Fitness : -2495.0\n",
      "[{'cromosome': [0, 1, 0, 0, 1, 0], 'fitness_value': -319.0}, {'cromosome': [1, 1, 1, 0, 0, 0], 'fitness_value': -3131.0}, {'cromosome': [0, 1, 0, 0, 1, 1], 'fitness_value': -356.0}, {'cromosome': [1, 1, 0, 0, 1, 0], 'fitness_value': -2495.0}]\n"
     ]
    },
    {
     "ename": "TypeError",
     "evalue": "'list' object cannot be interpreted as an integer",
     "output_type": "error",
     "traceback": [
      "\u001b[1;31m---------------------------------------------------------------------------\u001b[0m",
      "\u001b[1;31mTypeError\u001b[0m                                 Traceback (most recent call last)",
      "Cell \u001b[1;32mIn[2], line 8\u001b[0m\n\u001b[0;32m      6\u001b[0m population_fit\u001b[38;5;241m=\u001b[39mgen_algo\u001b[38;5;241m.\u001b[39mfitness_func()\n\u001b[0;32m      7\u001b[0m \u001b[38;5;28mprint\u001b[39m(population_fit)\n\u001b[1;32m----> 8\u001b[0m best_fitness_value,new_sel\u001b[38;5;241m=\u001b[39m\u001b[43mgen_algo\u001b[49m\u001b[38;5;241;43m.\u001b[39;49m\u001b[43mselection\u001b[49m\u001b[43m(\u001b[49m\u001b[43mpopulation_fit\u001b[49m\u001b[43m)\u001b[49m\n\u001b[0;32m      9\u001b[0m \u001b[38;5;28;01mif\u001b[39;00m best_fitness_value\u001b[38;5;241m==\u001b[39m\u001b[38;5;241m5.0\u001b[39m:\n\u001b[0;32m     10\u001b[0m     \u001b[38;5;28;01mbreak\u001b[39;00m\n",
      "Cell \u001b[1;32mIn[1], line 34\u001b[0m, in \u001b[0;36mgenetic_algo.selection\u001b[1;34m(self, population_fit)\u001b[0m\n\u001b[0;32m     31\u001b[0m \u001b[38;5;28;01mdef\u001b[39;00m \u001b[38;5;21mselection\u001b[39m(\u001b[38;5;28mself\u001b[39m,population_fit):\n\u001b[0;32m     32\u001b[0m     \u001b[38;5;66;03m# population_fit_sorted = sorted(population_fit, key=lambda x: x[\"fitness_value\"])\u001b[39;00m\n\u001b[0;32m     33\u001b[0m     \u001b[38;5;66;03m# return population_fit_sorted[0][\"fitness_value\"],[population_fit_sorted[0]['cromosome'],population_fit_sorted[1][\"cromosome\"]]\u001b[39;00m\n\u001b[1;32m---> 34\u001b[0m     select_index\u001b[38;5;241m=\u001b[39mrandom\u001b[38;5;241m.\u001b[39mchoices([x \u001b[38;5;28;01mfor\u001b[39;00m x \u001b[38;5;129;01min\u001b[39;00m \u001b[38;5;28mrange\u001b[39m(\u001b[38;5;241m0\u001b[39m,\u001b[38;5;28mlen\u001b[39m(population_fit))],weights\u001b[38;5;241m=\u001b[39m[population_fit[x][\u001b[38;5;124m'\u001b[39m\u001b[38;5;124mfitness_value\u001b[39m\u001b[38;5;124m'\u001b[39m] \u001b[38;5;28;01mfor\u001b[39;00m x \u001b[38;5;129;01min\u001b[39;00m \u001b[38;5;28;43mrange\u001b[39;49m\u001b[43m(\u001b[49m\u001b[43mpopulation_fit\u001b[49m\u001b[43m)\u001b[49m],k\u001b[38;5;241m=\u001b[39m\u001b[38;5;241m2\u001b[39m)\n\u001b[0;32m     35\u001b[0m     \u001b[38;5;28;01mreturn\u001b[39;00m population_fit[select_index[\u001b[38;5;241m0\u001b[39m]][\u001b[38;5;124m\"\u001b[39m\u001b[38;5;124mfitness_value\u001b[39m\u001b[38;5;124m\"\u001b[39m],[population_fit[select_index[\u001b[38;5;241m0\u001b[39m]][\u001b[38;5;124m'\u001b[39m\u001b[38;5;124mcromosome\u001b[39m\u001b[38;5;124m'\u001b[39m],population_fit[select_index[\u001b[38;5;241m1\u001b[39m]][\u001b[38;5;124m\"\u001b[39m\u001b[38;5;124mcromosome\u001b[39m\u001b[38;5;124m\"\u001b[39m]]\n",
      "\u001b[1;31mTypeError\u001b[0m: 'list' object cannot be interpreted as an integer"
     ]
    }
   ],
   "source": [
    "gen_algo=genetic_algo()\n",
    "cnt=0\n",
    "while(1):\n",
    "    cnt+=1\n",
    "    print(\"cnt: \",cnt)\n",
    "    population_fit=gen_algo.fitness_func()\n",
    "    print(population_fit)\n",
    "    best_fitness_value,new_sel=gen_algo.selection(population_fit)\n",
    "    if best_fitness_value==5.0:\n",
    "        break\n",
    "    cross_val=gen_algo.crossover(new_sel)\n",
    "    muted_value=gen_algo.mutation(cross_val)\n",
    "    population=muted_value"
   ]
  },
  {
   "cell_type": "code",
   "execution_count": null,
   "metadata": {},
   "outputs": [],
   "source": []
  }
 ],
 "metadata": {
  "kernelspec": {
   "display_name": "ai_clssifier",
   "language": "python",
   "name": "python3"
  },
  "language_info": {
   "codemirror_mode": {
    "name": "ipython",
    "version": 3
   },
   "file_extension": ".py",
   "mimetype": "text/x-python",
   "name": "python",
   "nbconvert_exporter": "python",
   "pygments_lexer": "ipython3",
   "version": "3.10.13"
  }
 },
 "nbformat": 4,
 "nbformat_minor": 2
}
